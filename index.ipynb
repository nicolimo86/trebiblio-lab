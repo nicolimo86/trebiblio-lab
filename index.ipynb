{
 "cells": [
  {
   "cell_type": "code",
   "execution_count": 1,
   "metadata": {},
   "outputs": [],
   "source": [
    "import pandas as pd"
   ]
  },
  {
   "cell_type": "code",
   "execution_count": 2,
   "metadata": {},
   "outputs": [
    {
     "data": {
      "text/html": [
       "<div>\n",
       "<style scoped>\n",
       "    .dataframe tbody tr th:only-of-type {\n",
       "        vertical-align: middle;\n",
       "    }\n",
       "\n",
       "    .dataframe tbody tr th {\n",
       "        vertical-align: top;\n",
       "    }\n",
       "\n",
       "    .dataframe thead th {\n",
       "        text-align: right;\n",
       "    }\n",
       "</style>\n",
       "<table border=\"1\" class=\"dataframe\">\n",
       "  <thead>\n",
       "    <tr style=\"text-align: right;\">\n",
       "      <th></th>\n",
       "      <th>Titolo</th>\n",
       "      <th>Autore</th>\n",
       "      <th>Editore</th>\n",
       "      <th>Categoria</th>\n",
       "      <th>Scaffale</th>\n",
       "      <th>Lingua</th>\n",
       "    </tr>\n",
       "  </thead>\n",
       "  <tbody>\n",
       "    <tr>\n",
       "      <th>0</th>\n",
       "      <td>Scrooge - Canto di Natale Commedia Musicale</td>\n",
       "      <td>Mario Restagno</td>\n",
       "      <td>Missioni Don Bosco</td>\n",
       "      <td>Spettacolo</td>\n",
       "      <td>1.0</td>\n",
       "      <td>Italiano</td>\n",
       "    </tr>\n",
       "    <tr>\n",
       "      <th>1</th>\n",
       "      <td>Tutti assolti perché il fatto non costituisce ...</td>\n",
       "      <td>Carmine Cosenza</td>\n",
       "      <td>NaN</td>\n",
       "      <td>Autori lucani</td>\n",
       "      <td>2.0</td>\n",
       "      <td>Italiano</td>\n",
       "    </tr>\n",
       "    <tr>\n",
       "      <th>2</th>\n",
       "      <td>Un'altra tappa</td>\n",
       "      <td>Carmine Cosenza</td>\n",
       "      <td>NaN</td>\n",
       "      <td>Autori lucani</td>\n",
       "      <td>2.0</td>\n",
       "      <td>Italiano</td>\n",
       "    </tr>\n",
       "    <tr>\n",
       "      <th>3</th>\n",
       "      <td>Al dilà della Scienza. Banali indizi miei per ...</td>\n",
       "      <td>Carmine Cosenza</td>\n",
       "      <td>NaN</td>\n",
       "      <td>Autori Lucani</td>\n",
       "      <td>2.0</td>\n",
       "      <td>Italiano</td>\n",
       "    </tr>\n",
       "    <tr>\n",
       "      <th>4</th>\n",
       "      <td>Disperato Eco dal Sud Italiano</td>\n",
       "      <td>Carmine Cosenza</td>\n",
       "      <td>NaN</td>\n",
       "      <td>Autori Lucani</td>\n",
       "      <td>2.0</td>\n",
       "      <td>Italiano</td>\n",
       "    </tr>\n",
       "    <tr>\n",
       "      <th>...</th>\n",
       "      <td>...</td>\n",
       "      <td>...</td>\n",
       "      <td>...</td>\n",
       "      <td>...</td>\n",
       "      <td>...</td>\n",
       "      <td>...</td>\n",
       "    </tr>\n",
       "    <tr>\n",
       "      <th>3104</th>\n",
       "      <td>I libri più belli di Selezione</td>\n",
       "      <td>AA.VV.</td>\n",
       "      <td>NaN</td>\n",
       "      <td>Romanzi</td>\n",
       "      <td>5.0</td>\n",
       "      <td>Italiano</td>\n",
       "    </tr>\n",
       "    <tr>\n",
       "      <th>3105</th>\n",
       "      <td>Treno ottantottoquarantadue</td>\n",
       "      <td>Giovanni Angiolo Rubino</td>\n",
       "      <td>NaN</td>\n",
       "      <td>Romanzi</td>\n",
       "      <td>6.0</td>\n",
       "      <td>Italiano</td>\n",
       "    </tr>\n",
       "    <tr>\n",
       "      <th>3106</th>\n",
       "      <td>Il cappello all'ingiù</td>\n",
       "      <td>Giovanni Angiolo Rubino</td>\n",
       "      <td>NaN</td>\n",
       "      <td>Romanzi</td>\n",
       "      <td>6.0</td>\n",
       "      <td>Italiano</td>\n",
       "    </tr>\n",
       "    <tr>\n",
       "      <th>3107</th>\n",
       "      <td>Il castello piccolomini di Celano</td>\n",
       "      <td>NaN</td>\n",
       "      <td>NaN</td>\n",
       "      <td>Arte</td>\n",
       "      <td>6.0</td>\n",
       "      <td>Italiano</td>\n",
       "    </tr>\n",
       "    <tr>\n",
       "      <th>3108</th>\n",
       "      <td>L'Africa dall'immaginario alle immagini.</td>\n",
       "      <td>AA.VV.</td>\n",
       "      <td>NaN</td>\n",
       "      <td>Geografia</td>\n",
       "      <td>1.0</td>\n",
       "      <td>Italiano</td>\n",
       "    </tr>\n",
       "  </tbody>\n",
       "</table>\n",
       "<p>3109 rows × 6 columns</p>\n",
       "</div>"
      ],
      "text/plain": [
       "                                                 Titolo  \\\n",
       "0           Scrooge - Canto di Natale Commedia Musicale   \n",
       "1     Tutti assolti perché il fatto non costituisce ...   \n",
       "2                                        Un'altra tappa   \n",
       "3     Al dilà della Scienza. Banali indizi miei per ...   \n",
       "4                        Disperato Eco dal Sud Italiano   \n",
       "...                                                 ...   \n",
       "3104                     I libri più belli di Selezione   \n",
       "3105                        Treno ottantottoquarantadue   \n",
       "3106                              Il cappello all'ingiù   \n",
       "3107                  Il castello piccolomini di Celano   \n",
       "3108           L'Africa dall'immaginario alle immagini.   \n",
       "\n",
       "                       Autore             Editore      Categoria  Scaffale  \\\n",
       "0              Mario Restagno  Missioni Don Bosco     Spettacolo       1.0   \n",
       "1             Carmine Cosenza                 NaN  Autori lucani       2.0   \n",
       "2             Carmine Cosenza                 NaN  Autori lucani       2.0   \n",
       "3             Carmine Cosenza                 NaN  Autori Lucani       2.0   \n",
       "4             Carmine Cosenza                 NaN  Autori Lucani       2.0   \n",
       "...                       ...                 ...            ...       ...   \n",
       "3104                   AA.VV.                 NaN        Romanzi       5.0   \n",
       "3105  Giovanni Angiolo Rubino                 NaN        Romanzi       6.0   \n",
       "3106  Giovanni Angiolo Rubino                 NaN        Romanzi       6.0   \n",
       "3107                      NaN                 NaN           Arte       6.0   \n",
       "3108                   AA.VV.                 NaN      Geografia       1.0   \n",
       "\n",
       "        Lingua  \n",
       "0     Italiano  \n",
       "1     Italiano  \n",
       "2     Italiano  \n",
       "3     Italiano  \n",
       "4     Italiano  \n",
       "...        ...  \n",
       "3104  Italiano  \n",
       "3105  Italiano  \n",
       "3106  Italiano  \n",
       "3107  Italiano  \n",
       "3108  Italiano  \n",
       "\n",
       "[3109 rows x 6 columns]"
      ]
     },
     "execution_count": 2,
     "metadata": {},
     "output_type": "execute_result"
    }
   ],
   "source": [
    "tables = pd.read_html(\"http://bibliotre.altervista.org/archivio/\")\n",
    "catalog = tables[0]\n",
    "catalog"
   ]
  },
  {
   "cell_type": "markdown",
   "metadata": {},
   "source": [
    "### Autori piu' presenti:"
   ]
  },
  {
   "cell_type": "code",
   "execution_count": null,
   "metadata": {},
   "outputs": [],
   "source": []
  },
  {
   "cell_type": "code",
   "execution_count": 8,
   "metadata": {},
   "outputs": [
    {
     "data": {
      "text/plain": [
       "Autore\n",
       "AA.VV.                    986\n",
       "Edgar Wallace              54\n",
       "Erle Stanley Gardner       24\n",
       "Piero Angela AA.VV         18\n",
       "Rex Stout                  15\n",
       "AA/VV                      12\n",
       "Agatha Christie            10\n",
       "Laura Tagliaferro           9\n",
       "Gabriele D'Annunzio         8\n",
       "Karl Marx                   8\n",
       "Carmine Cosenza             8\n",
       "S. S. Van Dine              7\n",
       "Stephen King                7\n",
       "Antonio Lotierzo            7\n",
       "Luca Crippa                 6\n",
       "AA.VV                       6\n",
       "A.J. Cronin                 6\n",
       "Alfonso Garuti              6\n",
       "William Shakespeare         6\n",
       "Richard Austin Freeman      6\n",
       "dtype: int64"
      ]
     },
     "execution_count": 8,
     "metadata": {},
     "output_type": "execute_result"
    }
   ],
   "source": [
    "occorrenze_autori = catalog.groupby(by=['Autore']).size().sort_values(ascending=False)\n",
    "occorrenze_autori.head(20)"
   ]
  },
  {
   "cell_type": "markdown",
   "metadata": {},
   "source": [
    "### Editori piu' presenti:"
   ]
  },
  {
   "cell_type": "code",
   "execution_count": 9,
   "metadata": {
    "scrolled": true
   },
   "outputs": [
    {
     "data": {
      "text/plain": [
       "Editore\n",
       "Mondadori                                    119\n",
       "Arnoldo Mondadori Editore                    112\n",
       "Newton Compton Editori                       101\n",
       "Garzanti                                      40\n",
       "Edizioni Paoline                              30\n",
       "Cinque Lune                                   28\n",
       "Osanna                                        28\n",
       "Edizione Osanna                               27\n",
       "Rizzoli                                       25\n",
       "Fabbri Editori                                24\n",
       "Ministero per Beni Culturali e Ambientali     21\n",
       "Rcs MediaGroup                                21\n",
       "De Agostini                                   20\n",
       "Paravia                                       19\n",
       "GRUPPO EDITORIALE FABBRI                      18\n",
       "Einaudi                                       17\n",
       "Bompiani                                      17\n",
       "Congedo                                       16\n",
       "Edizioni 5 Lune                               15\n",
       "Arnoldo Mondadori                             15\n",
       "dtype: int64"
      ]
     },
     "execution_count": 9,
     "metadata": {},
     "output_type": "execute_result"
    }
   ],
   "source": [
    "occorrenze_editori = catalog.groupby(by=['Editore']).size().sort_values(ascending=False)\n",
    "occorrenze_editori.head(20)"
   ]
  },
  {
   "cell_type": "markdown",
   "metadata": {},
   "source": [
    "### Lingue"
   ]
  },
  {
   "cell_type": "code",
   "execution_count": 10,
   "metadata": {},
   "outputs": [
    {
     "data": {
      "text/plain": [
       "Lingua\n",
       "Italiano               3070\n",
       "Francese                 18\n",
       "Inglese                  11\n",
       "Varie                     2\n",
       "Italiano / Tedesco        2\n",
       "Italiano / Francese       2\n",
       "Italiano / Latino         1\n",
       "Italiano / Inglese        1\n",
       "Inglese / Italiano        1\n",
       "Esperanto                 1\n",
       "dtype: int64"
      ]
     },
     "execution_count": 10,
     "metadata": {},
     "output_type": "execute_result"
    }
   ],
   "source": [
    "lingue = catalog.groupby(by=['Lingua']).size().sort_values(ascending=False)\n",
    "lingue.head(20)"
   ]
  },
  {
   "cell_type": "markdown",
   "metadata": {},
   "source": [
    "### Categorie"
   ]
  },
  {
   "cell_type": "code",
   "execution_count": 12,
   "metadata": {
    "scrolled": true
   },
   "outputs": [
    {
     "data": {
      "text/plain": [
       "Categoria\n",
       "Arte                      710\n",
       "Romanzi                   673\n",
       "Storia                    264\n",
       "Religione                 193\n",
       "Lettere e Filosofia       180\n",
       "Scienze                   179\n",
       "Autori Lucani             151\n",
       "Archeologia e Geologia    148\n",
       "Romanzi per ragazzi       136\n",
       "Geografia                 105\n",
       "Medicina                   79\n",
       "Spettacolo                 46\n",
       "Autori lucani              38\n",
       "Enciclopedie               32\n",
       "Tesi                       32\n",
       "Sport                      31\n",
       "Dialetti                   28\n",
       "Musica                     22\n",
       "Antichi Mestieri           20\n",
       "Cucina                     18\n",
       "dtype: int64"
      ]
     },
     "execution_count": 12,
     "metadata": {},
     "output_type": "execute_result"
    }
   ],
   "source": [
    "categorie = catalog.groupby(by=['Categoria']).size().sort_values(ascending=False)\n",
    "categorie.head(20)"
   ]
  }
 ],
 "metadata": {
  "kernelspec": {
   "display_name": "Python 3",
   "language": "python",
   "name": "python3"
  },
  "language_info": {
   "codemirror_mode": {
    "name": "ipython",
    "version": 3
   },
   "file_extension": ".py",
   "mimetype": "text/x-python",
   "name": "python",
   "nbconvert_exporter": "python",
   "pygments_lexer": "ipython3",
   "version": "3.7.9"
  }
 },
 "nbformat": 4,
 "nbformat_minor": 4
}
